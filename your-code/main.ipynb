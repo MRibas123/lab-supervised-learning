{
  "nbformat": 4,
  "nbformat_minor": 0,
  "metadata": {
    "kernelspec": {
      "display_name": "Python 3",
      "language": "python",
      "name": "python3"
    },
    "language_info": {
      "codemirror_mode": {
        "name": "ipython",
        "version": 3
      },
      "file_extension": ".py",
      "mimetype": "text/x-python",
      "name": "python",
      "nbconvert_exporter": "python",
      "pygments_lexer": "ipython3",
      "version": "3.8.6"
    },
    "colab": {
      "name": "main.ipynb",
      "provenance": [],
      "toc_visible": true
    }
  },
  "cells": [
    {
      "cell_type": "markdown",
      "metadata": {
        "id": "i8oMsnnPfjXM"
      },
      "source": [
        "# Before your start:\n",
        "- Read the README.md file\n",
        "- Comment as much as you can and use the resources in the README.md file\n",
        "- Happy learning!"
      ]
    },
    {
      "cell_type": "code",
      "metadata": {
        "id": "GJo1B1sbfjXR"
      },
      "source": [
        "# Import your libraries:\n",
        "import matplotlib.pyplot as plt\n",
        "import numpy as np\n",
        "import pandas as pd"
      ],
      "execution_count": 9,
      "outputs": []
    },
    {
      "cell_type": "markdown",
      "metadata": {
        "id": "hkikSANjfjXR"
      },
      "source": [
        "In this lab, we will explore a dataset that describes websites with different features and labels them either benign or malicious . We will use supervised learning algorithms to figure out what feature patterns malicious websites are likely to have and use our model to predict malicious websites.\n",
        "\n",
        "# Challenge 1 - Explore The Dataset\n",
        "\n",
        "Let's start by exploring the dataset. First load the data file:"
      ]
    },
    {
      "cell_type": "code",
      "metadata": {
        "id": "Rnl9lqWtfjXS"
      },
      "source": [
        "websites = pd.read_csv('./website.xls')"
      ],
      "execution_count": 10,
      "outputs": []
    },
    {
      "cell_type": "markdown",
      "metadata": {
        "id": "ZwFG70lHfjXS"
      },
      "source": [
        "#### Explore the data from an bird's-eye view.\n",
        "\n",
        "You should already been very familiar with the procedures now so we won't provide the instructions step by step. Reflect on what you did in the previous labs and explore the dataset.\n",
        "\n",
        "Things you'll be looking for:\n",
        "\n",
        "* What the dataset looks like?\n",
        "* What are the data types?\n",
        "* Which columns contain the features of the websites?\n",
        "* Which column contains the feature we will predict? What is the code standing for benign vs malicious websites?\n",
        "* Do we need to transform any of the columns from categorical to ordinal values? If so what are these columns?\n",
        "\n",
        "Feel free to add additional cells for your explorations. Make sure to comment what you find out."
      ]
    },
    {
      "cell_type": "code",
      "metadata": {
        "colab": {
          "base_uri": "https://localhost:8080/",
          "height": 1000
        },
        "id": "EArsOgXcfjXS",
        "outputId": "896009ff-38fd-4fee-b7c4-fb98b1de1019"
      },
      "source": [
        "# Your code here\n",
        "display(websites,websites.dtypes,websites.isnull().sum())\n"
      ],
      "execution_count": 11,
      "outputs": [
        {
          "output_type": "display_data",
          "data": {
            "text/html": [
              "<div>\n",
              "<style scoped>\n",
              "    .dataframe tbody tr th:only-of-type {\n",
              "        vertical-align: middle;\n",
              "    }\n",
              "\n",
              "    .dataframe tbody tr th {\n",
              "        vertical-align: top;\n",
              "    }\n",
              "\n",
              "    .dataframe thead th {\n",
              "        text-align: right;\n",
              "    }\n",
              "</style>\n",
              "<table border=\"1\" class=\"dataframe\">\n",
              "  <thead>\n",
              "    <tr style=\"text-align: right;\">\n",
              "      <th></th>\n",
              "      <th>URL</th>\n",
              "      <th>URL_LENGTH</th>\n",
              "      <th>NUMBER_SPECIAL_CHARACTERS</th>\n",
              "      <th>CHARSET</th>\n",
              "      <th>SERVER</th>\n",
              "      <th>CONTENT_LENGTH</th>\n",
              "      <th>WHOIS_COUNTRY</th>\n",
              "      <th>WHOIS_STATEPRO</th>\n",
              "      <th>WHOIS_REGDATE</th>\n",
              "      <th>WHOIS_UPDATED_DATE</th>\n",
              "      <th>TCP_CONVERSATION_EXCHANGE</th>\n",
              "      <th>DIST_REMOTE_TCP_PORT</th>\n",
              "      <th>REMOTE_IPS</th>\n",
              "      <th>APP_BYTES</th>\n",
              "      <th>SOURCE_APP_PACKETS</th>\n",
              "      <th>REMOTE_APP_PACKETS</th>\n",
              "      <th>SOURCE_APP_BYTES</th>\n",
              "      <th>REMOTE_APP_BYTES</th>\n",
              "      <th>APP_PACKETS</th>\n",
              "      <th>DNS_QUERY_TIMES</th>\n",
              "      <th>Type</th>\n",
              "    </tr>\n",
              "  </thead>\n",
              "  <tbody>\n",
              "    <tr>\n",
              "      <th>0</th>\n",
              "      <td>M0_109</td>\n",
              "      <td>16</td>\n",
              "      <td>7</td>\n",
              "      <td>iso-8859-1</td>\n",
              "      <td>nginx</td>\n",
              "      <td>263.0</td>\n",
              "      <td>None</td>\n",
              "      <td>None</td>\n",
              "      <td>10/10/2015 18:21</td>\n",
              "      <td>None</td>\n",
              "      <td>7</td>\n",
              "      <td>0</td>\n",
              "      <td>2</td>\n",
              "      <td>700</td>\n",
              "      <td>9</td>\n",
              "      <td>10</td>\n",
              "      <td>1153</td>\n",
              "      <td>832</td>\n",
              "      <td>9</td>\n",
              "      <td>2.0</td>\n",
              "      <td>1</td>\n",
              "    </tr>\n",
              "    <tr>\n",
              "      <th>1</th>\n",
              "      <td>B0_2314</td>\n",
              "      <td>16</td>\n",
              "      <td>6</td>\n",
              "      <td>UTF-8</td>\n",
              "      <td>Apache/2.4.10</td>\n",
              "      <td>15087.0</td>\n",
              "      <td>None</td>\n",
              "      <td>None</td>\n",
              "      <td>None</td>\n",
              "      <td>None</td>\n",
              "      <td>17</td>\n",
              "      <td>7</td>\n",
              "      <td>4</td>\n",
              "      <td>1230</td>\n",
              "      <td>17</td>\n",
              "      <td>19</td>\n",
              "      <td>1265</td>\n",
              "      <td>1230</td>\n",
              "      <td>17</td>\n",
              "      <td>0.0</td>\n",
              "      <td>0</td>\n",
              "    </tr>\n",
              "    <tr>\n",
              "      <th>2</th>\n",
              "      <td>B0_911</td>\n",
              "      <td>16</td>\n",
              "      <td>6</td>\n",
              "      <td>us-ascii</td>\n",
              "      <td>Microsoft-HTTPAPI/2.0</td>\n",
              "      <td>324.0</td>\n",
              "      <td>None</td>\n",
              "      <td>None</td>\n",
              "      <td>None</td>\n",
              "      <td>None</td>\n",
              "      <td>0</td>\n",
              "      <td>0</td>\n",
              "      <td>0</td>\n",
              "      <td>0</td>\n",
              "      <td>0</td>\n",
              "      <td>0</td>\n",
              "      <td>0</td>\n",
              "      <td>0</td>\n",
              "      <td>0</td>\n",
              "      <td>0.0</td>\n",
              "      <td>0</td>\n",
              "    </tr>\n",
              "    <tr>\n",
              "      <th>3</th>\n",
              "      <td>B0_113</td>\n",
              "      <td>17</td>\n",
              "      <td>6</td>\n",
              "      <td>ISO-8859-1</td>\n",
              "      <td>nginx</td>\n",
              "      <td>162.0</td>\n",
              "      <td>US</td>\n",
              "      <td>AK</td>\n",
              "      <td>7/10/1997 4:00</td>\n",
              "      <td>12/09/2013 0:45</td>\n",
              "      <td>31</td>\n",
              "      <td>22</td>\n",
              "      <td>3</td>\n",
              "      <td>3812</td>\n",
              "      <td>39</td>\n",
              "      <td>37</td>\n",
              "      <td>18784</td>\n",
              "      <td>4380</td>\n",
              "      <td>39</td>\n",
              "      <td>8.0</td>\n",
              "      <td>0</td>\n",
              "    </tr>\n",
              "    <tr>\n",
              "      <th>4</th>\n",
              "      <td>B0_403</td>\n",
              "      <td>17</td>\n",
              "      <td>6</td>\n",
              "      <td>UTF-8</td>\n",
              "      <td>None</td>\n",
              "      <td>124140.0</td>\n",
              "      <td>US</td>\n",
              "      <td>TX</td>\n",
              "      <td>12/05/1996 0:00</td>\n",
              "      <td>11/04/2017 0:00</td>\n",
              "      <td>57</td>\n",
              "      <td>2</td>\n",
              "      <td>5</td>\n",
              "      <td>4278</td>\n",
              "      <td>61</td>\n",
              "      <td>62</td>\n",
              "      <td>129889</td>\n",
              "      <td>4586</td>\n",
              "      <td>61</td>\n",
              "      <td>4.0</td>\n",
              "      <td>0</td>\n",
              "    </tr>\n",
              "    <tr>\n",
              "      <th>...</th>\n",
              "      <td>...</td>\n",
              "      <td>...</td>\n",
              "      <td>...</td>\n",
              "      <td>...</td>\n",
              "      <td>...</td>\n",
              "      <td>...</td>\n",
              "      <td>...</td>\n",
              "      <td>...</td>\n",
              "      <td>...</td>\n",
              "      <td>...</td>\n",
              "      <td>...</td>\n",
              "      <td>...</td>\n",
              "      <td>...</td>\n",
              "      <td>...</td>\n",
              "      <td>...</td>\n",
              "      <td>...</td>\n",
              "      <td>...</td>\n",
              "      <td>...</td>\n",
              "      <td>...</td>\n",
              "      <td>...</td>\n",
              "      <td>...</td>\n",
              "    </tr>\n",
              "    <tr>\n",
              "      <th>1776</th>\n",
              "      <td>M4_48</td>\n",
              "      <td>194</td>\n",
              "      <td>16</td>\n",
              "      <td>UTF-8</td>\n",
              "      <td>Apache</td>\n",
              "      <td>NaN</td>\n",
              "      <td>ES</td>\n",
              "      <td>Barcelona</td>\n",
              "      <td>17/09/2008 0:00</td>\n",
              "      <td>2/09/2016 0:00</td>\n",
              "      <td>0</td>\n",
              "      <td>0</td>\n",
              "      <td>0</td>\n",
              "      <td>0</td>\n",
              "      <td>0</td>\n",
              "      <td>3</td>\n",
              "      <td>186</td>\n",
              "      <td>0</td>\n",
              "      <td>0</td>\n",
              "      <td>0.0</td>\n",
              "      <td>1</td>\n",
              "    </tr>\n",
              "    <tr>\n",
              "      <th>1777</th>\n",
              "      <td>M4_41</td>\n",
              "      <td>198</td>\n",
              "      <td>17</td>\n",
              "      <td>UTF-8</td>\n",
              "      <td>Apache</td>\n",
              "      <td>NaN</td>\n",
              "      <td>ES</td>\n",
              "      <td>Barcelona</td>\n",
              "      <td>17/09/2008 0:00</td>\n",
              "      <td>2/09/2016 0:00</td>\n",
              "      <td>0</td>\n",
              "      <td>0</td>\n",
              "      <td>0</td>\n",
              "      <td>0</td>\n",
              "      <td>0</td>\n",
              "      <td>2</td>\n",
              "      <td>124</td>\n",
              "      <td>0</td>\n",
              "      <td>0</td>\n",
              "      <td>0.0</td>\n",
              "      <td>1</td>\n",
              "    </tr>\n",
              "    <tr>\n",
              "      <th>1778</th>\n",
              "      <td>B0_162</td>\n",
              "      <td>201</td>\n",
              "      <td>34</td>\n",
              "      <td>utf-8</td>\n",
              "      <td>Apache/2.2.16 (Debian)</td>\n",
              "      <td>8904.0</td>\n",
              "      <td>US</td>\n",
              "      <td>FL</td>\n",
              "      <td>15/02/1999 0:00</td>\n",
              "      <td>15/07/2015 0:00</td>\n",
              "      <td>83</td>\n",
              "      <td>2</td>\n",
              "      <td>6</td>\n",
              "      <td>6631</td>\n",
              "      <td>87</td>\n",
              "      <td>89</td>\n",
              "      <td>132181</td>\n",
              "      <td>6945</td>\n",
              "      <td>87</td>\n",
              "      <td>4.0</td>\n",
              "      <td>0</td>\n",
              "    </tr>\n",
              "    <tr>\n",
              "      <th>1779</th>\n",
              "      <td>B0_1152</td>\n",
              "      <td>234</td>\n",
              "      <td>34</td>\n",
              "      <td>ISO-8859-1</td>\n",
              "      <td>cloudflare-nginx</td>\n",
              "      <td>NaN</td>\n",
              "      <td>US</td>\n",
              "      <td>CA</td>\n",
              "      <td>1/04/1998 0:00</td>\n",
              "      <td>9/12/2016 0:00</td>\n",
              "      <td>0</td>\n",
              "      <td>0</td>\n",
              "      <td>0</td>\n",
              "      <td>0</td>\n",
              "      <td>0</td>\n",
              "      <td>0</td>\n",
              "      <td>0</td>\n",
              "      <td>0</td>\n",
              "      <td>0</td>\n",
              "      <td>0.0</td>\n",
              "      <td>0</td>\n",
              "    </tr>\n",
              "    <tr>\n",
              "      <th>1780</th>\n",
              "      <td>B0_676</td>\n",
              "      <td>249</td>\n",
              "      <td>40</td>\n",
              "      <td>utf-8</td>\n",
              "      <td>Microsoft-IIS/8.5</td>\n",
              "      <td>24435.0</td>\n",
              "      <td>US</td>\n",
              "      <td>Wisconsin</td>\n",
              "      <td>14/11/2008 0:00</td>\n",
              "      <td>20/11/2013 0:00</td>\n",
              "      <td>19</td>\n",
              "      <td>6</td>\n",
              "      <td>11</td>\n",
              "      <td>2314</td>\n",
              "      <td>25</td>\n",
              "      <td>28</td>\n",
              "      <td>3039</td>\n",
              "      <td>2776</td>\n",
              "      <td>25</td>\n",
              "      <td>6.0</td>\n",
              "      <td>0</td>\n",
              "    </tr>\n",
              "  </tbody>\n",
              "</table>\n",
              "<p>1781 rows × 21 columns</p>\n",
              "</div>"
            ],
            "text/plain": [
              "          URL  URL_LENGTH  ...  DNS_QUERY_TIMES Type\n",
              "0      M0_109          16  ...              2.0    1\n",
              "1     B0_2314          16  ...              0.0    0\n",
              "2      B0_911          16  ...              0.0    0\n",
              "3      B0_113          17  ...              8.0    0\n",
              "4      B0_403          17  ...              4.0    0\n",
              "...       ...         ...  ...              ...  ...\n",
              "1776    M4_48         194  ...              0.0    1\n",
              "1777    M4_41         198  ...              0.0    1\n",
              "1778   B0_162         201  ...              4.0    0\n",
              "1779  B0_1152         234  ...              0.0    0\n",
              "1780   B0_676         249  ...              6.0    0\n",
              "\n",
              "[1781 rows x 21 columns]"
            ]
          },
          "metadata": {
            "tags": []
          }
        },
        {
          "output_type": "display_data",
          "data": {
            "text/plain": [
              "URL                           object\n",
              "URL_LENGTH                     int64\n",
              "NUMBER_SPECIAL_CHARACTERS      int64\n",
              "CHARSET                       object\n",
              "SERVER                        object\n",
              "CONTENT_LENGTH               float64\n",
              "WHOIS_COUNTRY                 object\n",
              "WHOIS_STATEPRO                object\n",
              "WHOIS_REGDATE                 object\n",
              "WHOIS_UPDATED_DATE            object\n",
              "TCP_CONVERSATION_EXCHANGE      int64\n",
              "DIST_REMOTE_TCP_PORT           int64\n",
              "REMOTE_IPS                     int64\n",
              "APP_BYTES                      int64\n",
              "SOURCE_APP_PACKETS             int64\n",
              "REMOTE_APP_PACKETS             int64\n",
              "SOURCE_APP_BYTES               int64\n",
              "REMOTE_APP_BYTES               int64\n",
              "APP_PACKETS                    int64\n",
              "DNS_QUERY_TIMES              float64\n",
              "Type                           int64\n",
              "dtype: object"
            ]
          },
          "metadata": {
            "tags": []
          }
        },
        {
          "output_type": "display_data",
          "data": {
            "text/plain": [
              "URL                            0\n",
              "URL_LENGTH                     0\n",
              "NUMBER_SPECIAL_CHARACTERS      0\n",
              "CHARSET                        0\n",
              "SERVER                         1\n",
              "CONTENT_LENGTH               812\n",
              "WHOIS_COUNTRY                  0\n",
              "WHOIS_STATEPRO                 0\n",
              "WHOIS_REGDATE                  0\n",
              "WHOIS_UPDATED_DATE             0\n",
              "TCP_CONVERSATION_EXCHANGE      0\n",
              "DIST_REMOTE_TCP_PORT           0\n",
              "REMOTE_IPS                     0\n",
              "APP_BYTES                      0\n",
              "SOURCE_APP_PACKETS             0\n",
              "REMOTE_APP_PACKETS             0\n",
              "SOURCE_APP_BYTES               0\n",
              "REMOTE_APP_BYTES               0\n",
              "APP_PACKETS                    0\n",
              "DNS_QUERY_TIMES                1\n",
              "Type                           0\n",
              "dtype: int64"
            ]
          },
          "metadata": {
            "tags": []
          }
        }
      ]
    },
    {
      "cell_type": "code",
      "metadata": {
        "id": "SH3osYtOfjXT"
      },
      "source": [
        "# Your comment here\n",
        "#The columns Type should have the labels and the others the features.\n",
        "\n",
        "#I Think we can drop the CONTENT_LENGTH columns since it has more than half of the values are null.\n",
        "\n",
        "#We can probably change to ordinal the columns WHOIS_COUNTRY, WHOIS_STATEPRO, WHOIS_REGDATE, WHOIS_UPDATED_DATE, CHARSET and SERVER    "
      ],
      "execution_count": 12,
      "outputs": []
    },
    {
      "cell_type": "markdown",
      "metadata": {
        "id": "mSXw_7-sfjXU"
      },
      "source": [
        "#### Next, evaluate if the columns in this dataset are strongly correlated.\n",
        "\n",
        "If our dataset has strongly correlated columns, we need to choose certain ML algorithms instead of others. We need to evaluate this for our dataset now.\n",
        "\n",
        "Luckily, most of the columns in this dataset are ordinal which makes things a lot easier for us. In the next cells below, evaluate the level of collinearity of the data.\n",
        "\n",
        "We provide some general directions for you to consult in order to complete this step:\n",
        "\n",
        "1. You will create a correlation matrix using the numeric columns in the dataset.\n",
        "\n",
        "1. Create a heatmap using `seaborn` to visualize which columns have high collinearity.\n",
        "\n",
        "1. Comment on which columns you might need to remove due to high collinearity."
      ]
    },
    {
      "cell_type": "code",
      "metadata": {
        "colab": {
          "base_uri": "https://localhost:8080/",
          "height": 646
        },
        "id": "GsMkXrwjfjXU",
        "outputId": "2d03eb88-d63f-4e61-908e-41d7140b49f7"
      },
      "source": [
        "# Your code here\n",
        "import seaborn as sns\n",
        "fig, ax = plt.subplots(figsize=(10,10)) \n",
        "corr = websites.corr()\n",
        "mask = np.zeros_like(corr)\n",
        "mask[np.triu_indices_from(mask)] = True\n",
        "ax = sns.heatmap(corr, center=0, mask=mask, square=True, linewidths=.5, cbar_kws={\"shrink\": .5})"
      ],
      "execution_count": 13,
      "outputs": [
        {
          "output_type": "display_data",
          "data": {
            "image/png": "[encoded data removed]",
            "text/plain": [
              "<Figure size 720x720 with 2 Axes>"
            ]
          },
          "metadata": {
            "tags": [],
            "needs_background": "light"
          }
        }
      ]
    },
    {
      "cell_type": "code",
      "metadata": {
        "id": "I3c8kFN9fjXU"
      },
      "source": [
        "# Your comment here\n",
        "#We can see that TCP_CONVERSATION_EXCHANGE,APP_PACKETS, SOURCE_APP_BYTES, REMOTE_APP_PACKETS, SOURCE_APP_PACKETS are all strongly correlated.\n",
        "#Also APP_BYTES and REMOTE_APP_BYTES are very correlated "
      ],
      "execution_count": 14,
      "outputs": []
    },
    {
      "cell_type": "markdown",
      "metadata": {
        "id": "oBVsG-K6fjXV"
      },
      "source": [
        "# Challenge 2 - Remove Column Collinearity.\n",
        "\n",
        "From the heatmap you created, you should have seen at least 3 columns that can be removed due to high collinearity. Remove these columns from the dataset.\n",
        "\n",
        "Note that you should remove as few columns as you can. You don't have to remove all the columns at once. But instead, try removing one column, then produce the heatmap again to determine if additional columns should be removed. As long as the dataset no longer contains columns that are correlated for over 90%, you can stop. Also, keep in mind when two columns have high collinearity, you only need to remove one of them but not both.\n",
        "\n",
        "In the cells below, remove as few columns as you can to eliminate the high collinearity in the dataset. Make sure to comment on your way so that the instructional team can learn about your thinking process which allows them to give feedback. At the end, print the heatmap again."
      ]
    },
    {
      "cell_type": "code",
      "metadata": {
        "id": "eeUFxRo0fjXV"
      },
      "source": [
        "# Your code here\n",
        "websites2 = websites.drop(['APP_PACKETS','TCP_CONVERSATION_EXCHANGE','REMOTE_APP_BYTES'], axis=1)\n",
        "#I removed one at a time and then checked."
      ],
      "execution_count": 15,
      "outputs": []
    },
    {
      "cell_type": "code",
      "metadata": {
        "colab": {
          "base_uri": "https://localhost:8080/",
          "height": 645
        },
        "id": "mKLWy7BdfjXV",
        "outputId": "dc14976d-f3ea-4aee-a6e4-6579302ec3be"
      },
      "source": [
        "# Your comment here\n",
        "import seaborn as sns\n",
        "fig, ax = plt.subplots(figsize=(10,10)) \n",
        "corr = websites2.corr()\n",
        "mask = np.zeros_like(corr)\n",
        "mask[np.triu_indices_from(mask)] = True\n",
        "ax = sns.heatmap(corr, center=0, mask=mask, square=True, linewidths=.5, cbar_kws={\"shrink\": .5})"
      ],
      "execution_count": 16,
      "outputs": [
        {
          "output_type": "display_data",
          "data": {
            "image/png": "[encoded data removed]",
            "text/plain": [
              "<Figure size 720x720 with 2 Axes>"
            ]
          },
          "metadata": {
            "tags": [],
            "needs_background": "light"
          }
        }
      ]
    },
    {
      "cell_type": "markdown",
      "metadata": {
        "id": "yR4Z_SsTfjXV"
      },
      "source": [
        "# Challenge 3 - Handle Missing Values\n",
        "\n",
        "The next step would be handling missing values. **We start by examining the number of missing values in each column, which you will do in the next cell.**"
      ]
    },
    {
      "cell_type": "code",
      "metadata": {
        "colab": {
          "base_uri": "https://localhost:8080/"
        },
        "id": "racivOA5fjXW",
        "outputId": "58c79ce2-fefd-4f48-b019-4c3a7872c6fb"
      },
      "source": [
        "# Your code here\n",
        "websites2.isnull().sum()"
      ],
      "execution_count": 17,
      "outputs": [
        {
          "output_type": "execute_result",
          "data": {
            "text/plain": [
              "URL                            0\n",
              "URL_LENGTH                     0\n",
              "NUMBER_SPECIAL_CHARACTERS      0\n",
              "CHARSET                        0\n",
              "SERVER                         1\n",
              "CONTENT_LENGTH               812\n",
              "WHOIS_COUNTRY                  0\n",
              "WHOIS_STATEPRO                 0\n",
              "WHOIS_REGDATE                  0\n",
              "WHOIS_UPDATED_DATE             0\n",
              "DIST_REMOTE_TCP_PORT           0\n",
              "REMOTE_IPS                     0\n",
              "APP_BYTES                      0\n",
              "SOURCE_APP_PACKETS             0\n",
              "REMOTE_APP_PACKETS             0\n",
              "SOURCE_APP_BYTES               0\n",
              "DNS_QUERY_TIMES                1\n",
              "Type                           0\n",
              "dtype: int64"
            ]
          },
          "metadata": {
            "tags": []
          },
          "execution_count": 17
        }
      ]
    },
    {
      "cell_type": "markdown",
      "metadata": {
        "id": "sz9TmjhEfjXW"
      },
      "source": [
        "If you remember in the previous labs, we drop a column if the column contains a high proportion of missing values. After dropping those problematic columns, we drop the rows with missing values.\n",
        "\n",
        "#### In the cells below, handle the missing values from the dataset. Remember to comment the rationale of your decisions."
      ]
    },
    {
      "cell_type": "code",
      "metadata": {
        "id": "9NARIkzyfjXW"
      },
      "source": [
        "# Your code here\n",
        "websites2.drop(['CONTENT_LENGTH'], inplace = True, axis=1)\n",
        "websites2.dropna(inplace = True, axis = 0, how='any') #Drops rows"
      ],
      "execution_count": 18,
      "outputs": []
    },
    {
      "cell_type": "code",
      "metadata": {
        "id": "ph5FU9upfjXW"
      },
      "source": [
        "# Your comment here\n",
        "#We removed this columns because there is almost half of the values missing."
      ],
      "execution_count": 19,
      "outputs": []
    },
    {
      "cell_type": "markdown",
      "metadata": {
        "id": "CBCvmX7AfjXX"
      },
      "source": [
        "#### Again, examine the number of missing values in each column. \n",
        "\n",
        "If all cleaned, proceed. Otherwise, go back and do more cleaning."
      ]
    },
    {
      "cell_type": "code",
      "metadata": {
        "colab": {
          "base_uri": "https://localhost:8080/"
        },
        "id": "Kcn3nw3bfjXX",
        "outputId": "ed75d70c-f221-4021-fe1b-4fcc8c6a8135"
      },
      "source": [
        "# Examine missing values in each column\n",
        "websites2.isnull().sum()"
      ],
      "execution_count": 20,
      "outputs": [
        {
          "output_type": "execute_result",
          "data": {
            "text/plain": [
              "URL                          0\n",
              "URL_LENGTH                   0\n",
              "NUMBER_SPECIAL_CHARACTERS    0\n",
              "CHARSET                      0\n",
              "SERVER                       0\n",
              "WHOIS_COUNTRY                0\n",
              "WHOIS_STATEPRO               0\n",
              "WHOIS_REGDATE                0\n",
              "WHOIS_UPDATED_DATE           0\n",
              "DIST_REMOTE_TCP_PORT         0\n",
              "REMOTE_IPS                   0\n",
              "APP_BYTES                    0\n",
              "SOURCE_APP_PACKETS           0\n",
              "REMOTE_APP_PACKETS           0\n",
              "SOURCE_APP_BYTES             0\n",
              "DNS_QUERY_TIMES              0\n",
              "Type                         0\n",
              "dtype: int64"
            ]
          },
          "metadata": {
            "tags": []
          },
          "execution_count": 20
        }
      ]
    },
    {
      "cell_type": "markdown",
      "metadata": {
        "id": "n6lP_AA0fjXX"
      },
      "source": [
        "# Challenge 4 - Handle `WHOIS_*` Categorical Data"
      ]
    },
    {
      "cell_type": "markdown",
      "metadata": {
        "id": "lh7iizpjfjXX"
      },
      "source": [
        "There are several categorical columns we need to handle. These columns are:\n",
        "\n",
        "* `URL`\n",
        "* `CHARSET`\n",
        "* `SERVER`\n",
        "* `WHOIS_COUNTRY`\n",
        "* `WHOIS_STATEPRO`\n",
        "* `WHOIS_REGDATE`\n",
        "* `WHOIS_UPDATED_DATE`\n",
        "\n",
        "How to handle string columns is always case by case. Let's start by working on `WHOIS_COUNTRY`. Your steps are:\n",
        "\n",
        "1. List out the unique values of `WHOIS_COUNTRY`.\n",
        "1. Consolidate the country values with consistent country codes. For example, the following values refer to the same country and should use consistent country code:\n",
        "    * `CY` and `Cyprus`\n",
        "    * `US` and `us`\n",
        "    * `SE` and `se`\n",
        "    * `GB`, `United Kingdom`, and `[u'GB'; u'UK']`\n",
        "\n",
        "#### In the cells below, fix the country values as intructed above."
      ]
    },
    {
      "cell_type": "code",
      "metadata": {
        "colab": {
          "base_uri": "https://localhost:8080/"
        },
        "id": "XuuRxF2wfjXX",
        "outputId": "92ed830e-aa10-44c0-b44b-358656970c91"
      },
      "source": [
        "# Your code here\n",
        "\n",
        "websites2['WHOIS_COUNTRY'] = websites2['WHOIS_COUNTRY'].str.upper()\n",
        "websites2['WHOIS_COUNTRY'] = websites2.apply(lambda x: 'CY' if x['WHOIS_COUNTRY'] == 'CYPRUS' else x['WHOIS_COUNTRY'], axis = 1)\n",
        "websites2['WHOIS_COUNTRY'] = websites2.apply(lambda x: 'UK' if x['WHOIS_COUNTRY'] == 'UNITED KINGDOM' else x['WHOIS_COUNTRY'], axis = 1)\n",
        "websites2['WHOIS_COUNTRY'] = websites2.apply(lambda x: 'UK' if x['WHOIS_COUNTRY'] == \"[U'GB'; U'UK']\" else x['WHOIS_COUNTRY'], axis = 1)\n",
        "websites2['WHOIS_COUNTRY'] = websites2.apply(lambda x: 'UK' if x['WHOIS_COUNTRY'] == \"GB\" else x['WHOIS_COUNTRY'], axis = 1)\n",
        "websites2['WHOIS_COUNTRY'].unique()"
      ],
      "execution_count": 21,
      "outputs": [
        {
          "output_type": "execute_result",
          "data": {
            "text/plain": [
              "array(['NONE', 'US', 'SC', 'UK', 'RU', 'AU', 'CA', 'PA', 'SE', 'IN', 'LU',\n",
              "       'TH', 'FR', 'NL', 'UG', 'JP', 'CN', 'SI', 'IL', 'KY', 'AT', 'CZ',\n",
              "       'PH', 'BE', 'NO', 'TR', 'LV', 'DE', 'ES', 'BR', 'KR', 'HK', 'UA',\n",
              "       'CH', 'BS', 'PK', 'IT', 'CY', 'BY', 'AE', 'IE', 'UY', 'KG'],\n",
              "      dtype=object)"
            ]
          },
          "metadata": {
            "tags": []
          },
          "execution_count": 21
        }
      ]
    },
    {
      "cell_type": "markdown",
      "metadata": {
        "id": "SGRC2RPCfjXY"
      },
      "source": [
        "Since we have fixed the country values, can we convert this column to ordinal now?\n",
        "\n",
        "Not yet. If you reflect on the previous labs how we handle categorical columns, you probably remember we ended up dropping a lot of those columns because there are too many unique values. Too many unique values in a column is not desirable in machine learning because it makes prediction inaccurate. But there are workarounds under certain conditions. One of the fixable conditions is:\n",
        "\n",
        "#### If a limited number of values account for the majority of data, we can retain these top values and re-label all other rare values.\n",
        "\n",
        "The `WHOIS_COUNTRY` column happens to be this case. You can verify it by print a bar chart of the `value_counts` in the next cell to verify:"
      ]
    },
    {
      "cell_type": "code",
      "metadata": {
        "colab": {
          "base_uri": "https://localhost:8080/"
        },
        "id": "vmABtlOtfjXa",
        "outputId": "38b4e40e-71f3-4585-b9f2-7eac81109171"
      },
      "source": [
        "# Your code here\n",
        "websites2['WHOIS_COUNTRY'].value_counts()\n"
      ],
      "execution_count": 22,
      "outputs": [
        {
          "output_type": "execute_result",
          "data": {
            "text/plain": [
              "US      1105\n",
              "NONE     306\n",
              "CA        83\n",
              "ES        63\n",
              "AU        35\n",
              "UK        35\n",
              "PA        21\n",
              "JP        11\n",
              "IN        10\n",
              "CN        10\n",
              "CZ         9\n",
              "FR         9\n",
              "CH         6\n",
              "NL         6\n",
              "RU         6\n",
              "KR         5\n",
              "AT         4\n",
              "BS         4\n",
              "PH         4\n",
              "SE         4\n",
              "DE         3\n",
              "BE         3\n",
              "KY         3\n",
              "TR         3\n",
              "HK         3\n",
              "SC         3\n",
              "SI         2\n",
              "KG         2\n",
              "CY         2\n",
              "UA         2\n",
              "BR         2\n",
              "NO         2\n",
              "UY         2\n",
              "IL         2\n",
              "BY         1\n",
              "UG         1\n",
              "PK         1\n",
              "TH         1\n",
              "AE         1\n",
              "LV         1\n",
              "IT         1\n",
              "LU         1\n",
              "IE         1\n",
              "Name: WHOIS_COUNTRY, dtype: int64"
            ]
          },
          "metadata": {
            "tags": []
          },
          "execution_count": 22
        }
      ]
    },
    {
      "cell_type": "markdown",
      "metadata": {
        "id": "maE1gqTzfjXa"
      },
      "source": [
        "#### After verifying, now let's keep the top 10 values of the column and re-label other columns with `OTHER`."
      ]
    },
    {
      "cell_type": "code",
      "metadata": {
        "scrolled": true,
        "id": "Pswqfje7fjXa"
      },
      "source": [
        "def top10(x):\n",
        "    if x['WHOIS_COUNTRY'] =='NONE':\n",
        "        return 'NONE'\n",
        "    elif x['WHOIS_COUNTRY'] =='US':\n",
        "        return 'US'\n",
        "    elif x['WHOIS_COUNTRY'] =='CA':\n",
        "        return 'CA'\n",
        "    elif x['WHOIS_COUNTRY'] =='ES':\n",
        "        return 'ES'\n",
        "    elif x['WHOIS_COUNTRY'] =='AU':\n",
        "        return 'AU'\n",
        "    elif x['WHOIS_COUNTRY'] =='UK':\n",
        "        return 'UK'\n",
        "    elif x['WHOIS_COUNTRY'] =='PA':\n",
        "        return 'PA'\n",
        "    elif x['WHOIS_COUNTRY'] =='JP':\n",
        "        return 'JP'\n",
        "    elif x['WHOIS_COUNTRY'] =='CN':\n",
        "        return 'CN'\n",
        "    elif x['WHOIS_COUNTRY'] =='IN':\n",
        "        return 'IN'\n",
        "    else:\n",
        "        return 'OTHER'\n",
        "    \n",
        "\n",
        "    \n",
        "websites2['WHOIS_COUNTRY'] = websites2.apply(top10,axis =1)"
      ],
      "execution_count": 23,
      "outputs": []
    },
    {
      "cell_type": "code",
      "metadata": {
        "colab": {
          "base_uri": "https://localhost:8080/"
        },
        "id": "2nQKynlafjXa",
        "outputId": "22f9b1dd-9c3d-4775-de13-bbf33771abdb"
      },
      "source": [
        "websites2['WHOIS_COUNTRY'].value_counts()"
      ],
      "execution_count": 24,
      "outputs": [
        {
          "output_type": "execute_result",
          "data": {
            "text/plain": [
              "US       1105\n",
              "NONE      306\n",
              "OTHER     100\n",
              "CA         83\n",
              "ES         63\n",
              "AU         35\n",
              "UK         35\n",
              "PA         21\n",
              "JP         11\n",
              "CN         10\n",
              "IN         10\n",
              "Name: WHOIS_COUNTRY, dtype: int64"
            ]
          },
          "metadata": {
            "tags": []
          },
          "execution_count": 24
        }
      ]
    },
    {
      "cell_type": "markdown",
      "metadata": {
        "id": "uZwFhzQwfjXb"
      },
      "source": [
        "Now since `WHOIS_COUNTRY` has been re-labelled, we don't need `WHOIS_STATEPRO` any more because the values of the states or provinces may not be relevant any more. We'll drop this column.\n",
        "\n",
        "In addition, we will also drop `WHOIS_REGDATE` and `WHOIS_UPDATED_DATE`. These are the registration and update dates of the website domains. Not of our concerns.\n",
        "\n",
        "#### In the next cell, drop `['WHOIS_STATEPRO', 'WHOIS_REGDATE', 'WHOIS_UPDATED_DATE']`."
      ]
    },
    {
      "cell_type": "code",
      "metadata": {
        "id": "NTUSd8nMfjXb"
      },
      "source": [
        "# Your code here\n",
        "websites2.drop(['WHOIS_STATEPRO', 'WHOIS_REGDATE', 'WHOIS_UPDATED_DATE'], inplace = True,axis = 1)"
      ],
      "execution_count": 25,
      "outputs": []
    },
    {
      "cell_type": "markdown",
      "metadata": {
        "id": "l58vskaUfjXb"
      },
      "source": [
        "# Challenge 5 - Handle Remaining Categorical Data & Convert to Ordinal\n",
        "\n",
        "Now print the `dtypes` of the data again. Besides `WHOIS_COUNTRY` which we already fixed, there should be 3 categorical columns left: `URL`, `CHARSET`, and `SERVER`."
      ]
    },
    {
      "cell_type": "code",
      "metadata": {
        "colab": {
          "base_uri": "https://localhost:8080/",
          "height": 268
        },
        "id": "Q-GIzTR6fjXb",
        "outputId": "f4df187e-3964-4830-a4f3-1e510b9b4dc7"
      },
      "source": [
        "# Your code here\n",
        "display(websites2.dtypes)"
      ],
      "execution_count": 26,
      "outputs": [
        {
          "output_type": "display_data",
          "data": {
            "text/plain": [
              "URL                           object\n",
              "URL_LENGTH                     int64\n",
              "NUMBER_SPECIAL_CHARACTERS      int64\n",
              "CHARSET                       object\n",
              "SERVER                        object\n",
              "WHOIS_COUNTRY                 object\n",
              "DIST_REMOTE_TCP_PORT           int64\n",
              "REMOTE_IPS                     int64\n",
              "APP_BYTES                      int64\n",
              "SOURCE_APP_PACKETS             int64\n",
              "REMOTE_APP_PACKETS             int64\n",
              "SOURCE_APP_BYTES               int64\n",
              "DNS_QUERY_TIMES              float64\n",
              "Type                           int64\n",
              "dtype: object"
            ]
          },
          "metadata": {
            "tags": []
          }
        }
      ]
    },
    {
      "cell_type": "markdown",
      "metadata": {
        "id": "ttkJZ-j4fjXc"
      },
      "source": [
        "#### `URL` is easy. We'll simply drop it because it has too many unique values that there's no way for us to consolidate."
      ]
    },
    {
      "cell_type": "code",
      "metadata": {
        "colab": {
          "base_uri": "https://localhost:8080/",
          "height": 33
        },
        "id": "XeJy1XGdfjXc",
        "outputId": "ee48b65f-1d27-41da-d36d-707e92c6a3dc"
      },
      "source": [
        "# Your code here\n",
        "display(websites2['URL'].nunique())\n",
        "websites2.drop(['URL'], inplace = True,axis = 1)"
      ],
      "execution_count": 27,
      "outputs": [
        {
          "output_type": "display_data",
          "data": {
            "text/plain": [
              "1779"
            ]
          },
          "metadata": {
            "tags": []
          }
        }
      ]
    },
    {
      "cell_type": "markdown",
      "metadata": {
        "id": "C1DCJz3kfjXc"
      },
      "source": [
        "#### Print the unique value counts of `CHARSET`. You see there are only a few unique values. So we can keep it as it is."
      ]
    },
    {
      "cell_type": "code",
      "metadata": {
        "colab": {
          "base_uri": "https://localhost:8080/",
          "height": 33
        },
        "id": "mLEKyjncfjXc",
        "outputId": "7f915bad-ce4d-45d9-bb65-3583d1787290"
      },
      "source": [
        "# Your code here\n",
        "display(websites2['CHARSET'].nunique())"
      ],
      "execution_count": 28,
      "outputs": [
        {
          "output_type": "display_data",
          "data": {
            "text/plain": [
              "9"
            ]
          },
          "metadata": {
            "tags": []
          }
        }
      ]
    },
    {
      "cell_type": "markdown",
      "metadata": {
        "id": "B4RzedlmfjXc"
      },
      "source": [
        "`SERVER` is a little more complicated. Print its unique values and think about how you can consolidate those values.\n",
        "\n",
        "#### Before you think of your own solution, don't read the instructions that come next."
      ]
    },
    {
      "cell_type": "code",
      "metadata": {
        "id": "msldHv8BfjXd"
      },
      "source": [
        "# Your code here\n",
        "display(websites2['SERVER'].unique())"
      ],
      "execution_count": null,
      "outputs": []
    },
    {
      "cell_type": "markdown",
      "metadata": {
        "id": "HqVTim_EfjXd"
      },
      "source": [
        "![Think Hard](../images/think-hard.jpg)"
      ]
    },
    {
      "cell_type": "code",
      "metadata": {
        "id": "ESMrJ-02fjXd"
      },
      "source": [
        "# Your comment here\n",
        "# We can probably rename them by key-words."
      ],
      "execution_count": 30,
      "outputs": []
    },
    {
      "cell_type": "markdown",
      "metadata": {
        "id": "ieJ8f5AVfjXd"
      },
      "source": [
        "Although there are so many unique values in the `SERVER` column, there are actually only 3 main server types: `Microsoft`, `Apache`, and `nginx`. Just check if each `SERVER` value contains any of those server types and re-label them. For `SERVER` values that don't contain any of those substrings, label with `Other`.\n",
        "\n",
        "At the end, your `SERVER` column should only contain 4 unique values: `Microsoft`, `Apache`, `nginx`, and `Other`."
      ]
    },
    {
      "cell_type": "code",
      "metadata": {
        "id": "QGAd0aFjfjXd"
      },
      "source": [
        "# Your code here\n",
        "import re\n",
        "def servers(x):\n",
        "    if 'microsoft' in x['SERVER'].lower():\n",
        "        return 'Microsoft'\n",
        "    elif 'apache' in x['SERVER'].lower():\n",
        "        return 'Apache'\n",
        "    elif 'nginx' in x['SERVER'].lower():\n",
        "        return'nginx'\n",
        "    else:\n",
        "        return 'Other'\n",
        "    \n",
        "websites2['SERVER'] = websites2.apply(servers,axis=1)"
      ],
      "execution_count": 31,
      "outputs": []
    },
    {
      "cell_type": "code",
      "metadata": {
        "scrolled": false,
        "colab": {
          "base_uri": "https://localhost:8080/"
        },
        "id": "ZGoE94jafjXd",
        "outputId": "194a0168-6879-45db-deca-6ae0985c530e"
      },
      "source": [
        "# Count `SERVER` value counts here\n",
        "websites2['SERVER'].value_counts()"
      ],
      "execution_count": 32,
      "outputs": [
        {
          "output_type": "execute_result",
          "data": {
            "text/plain": [
              "Apache       642\n",
              "Other        503\n",
              "nginx        436\n",
              "Microsoft    198\n",
              "Name: SERVER, dtype: int64"
            ]
          },
          "metadata": {
            "tags": []
          },
          "execution_count": 32
        }
      ]
    },
    {
      "cell_type": "markdown",
      "metadata": {
        "id": "27aHsMy3fjXe"
      },
      "source": [
        "OK, all our categorical data are fixed now. **Let's convert them to ordinal data using Pandas' `get_dummies` function ([documentation](https://pandas.pydata.org/pandas-docs/stable/generated/pandas.get_dummies.html)). Also, assign the data with dummy values to a new variable `website_dummy`.**"
      ]
    },
    {
      "cell_type": "code",
      "metadata": {
        "id": "vcVsiFttfjXe"
      },
      "source": [
        "# Your code here\n",
        "website_dummy = pd.get_dummies(websites2)"
      ],
      "execution_count": 33,
      "outputs": []
    },
    {
      "cell_type": "markdown",
      "metadata": {
        "id": "SXbYzjmpfjXe"
      },
      "source": [
        "Now, inspect `website_dummy` to make sure the data and types are intended - there shouldn't be any categorical columns at this point."
      ]
    },
    {
      "cell_type": "code",
      "metadata": {
        "colab": {
          "base_uri": "https://localhost:8080/",
          "height": 1000
        },
        "id": "9d6Y17G3fjXe",
        "outputId": "511d2469-d116-4d1c-ea76-3deb4397061c"
      },
      "source": [
        "# Your code here\n",
        "display(website_dummy.isnull().sum(),website_dummy.dtypes)"
      ],
      "execution_count": 34,
      "outputs": [
        {
          "output_type": "display_data",
          "data": {
            "text/plain": [
              "URL_LENGTH                   0\n",
              "NUMBER_SPECIAL_CHARACTERS    0\n",
              "DIST_REMOTE_TCP_PORT         0\n",
              "REMOTE_IPS                   0\n",
              "APP_BYTES                    0\n",
              "SOURCE_APP_PACKETS           0\n",
              "REMOTE_APP_PACKETS           0\n",
              "SOURCE_APP_BYTES             0\n",
              "DNS_QUERY_TIMES              0\n",
              "Type                         0\n",
              "CHARSET_ISO-8859             0\n",
              "CHARSET_ISO-8859-1           0\n",
              "CHARSET_None                 0\n",
              "CHARSET_UTF-8                0\n",
              "CHARSET_iso-8859-1           0\n",
              "CHARSET_us-ascii             0\n",
              "CHARSET_utf-8                0\n",
              "CHARSET_windows-1251         0\n",
              "CHARSET_windows-1252         0\n",
              "SERVER_Apache                0\n",
              "SERVER_Microsoft             0\n",
              "SERVER_Other                 0\n",
              "SERVER_nginx                 0\n",
              "WHOIS_COUNTRY_AU             0\n",
              "WHOIS_COUNTRY_CA             0\n",
              "WHOIS_COUNTRY_CN             0\n",
              "WHOIS_COUNTRY_ES             0\n",
              "WHOIS_COUNTRY_IN             0\n",
              "WHOIS_COUNTRY_JP             0\n",
              "WHOIS_COUNTRY_NONE           0\n",
              "WHOIS_COUNTRY_OTHER          0\n",
              "WHOIS_COUNTRY_PA             0\n",
              "WHOIS_COUNTRY_UK             0\n",
              "WHOIS_COUNTRY_US             0\n",
              "dtype: int64"
            ]
          },
          "metadata": {
            "tags": []
          }
        },
        {
          "output_type": "display_data",
          "data": {
            "text/plain": [
              "URL_LENGTH                     int64\n",
              "NUMBER_SPECIAL_CHARACTERS      int64\n",
              "DIST_REMOTE_TCP_PORT           int64\n",
              "REMOTE_IPS                     int64\n",
              "APP_BYTES                      int64\n",
              "SOURCE_APP_PACKETS             int64\n",
              "REMOTE_APP_PACKETS             int64\n",
              "SOURCE_APP_BYTES               int64\n",
              "DNS_QUERY_TIMES              float64\n",
              "Type                           int64\n",
              "CHARSET_ISO-8859               uint8\n",
              "CHARSET_ISO-8859-1             uint8\n",
              "CHARSET_None                   uint8\n",
              "CHARSET_UTF-8                  uint8\n",
              "CHARSET_iso-8859-1             uint8\n",
              "CHARSET_us-ascii               uint8\n",
              "CHARSET_utf-8                  uint8\n",
              "CHARSET_windows-1251           uint8\n",
              "CHARSET_windows-1252           uint8\n",
              "SERVER_Apache                  uint8\n",
              "SERVER_Microsoft               uint8\n",
              "SERVER_Other                   uint8\n",
              "SERVER_nginx                   uint8\n",
              "WHOIS_COUNTRY_AU               uint8\n",
              "WHOIS_COUNTRY_CA               uint8\n",
              "WHOIS_COUNTRY_CN               uint8\n",
              "WHOIS_COUNTRY_ES               uint8\n",
              "WHOIS_COUNTRY_IN               uint8\n",
              "WHOIS_COUNTRY_JP               uint8\n",
              "WHOIS_COUNTRY_NONE             uint8\n",
              "WHOIS_COUNTRY_OTHER            uint8\n",
              "WHOIS_COUNTRY_PA               uint8\n",
              "WHOIS_COUNTRY_UK               uint8\n",
              "WHOIS_COUNTRY_US               uint8\n",
              "dtype: object"
            ]
          },
          "metadata": {
            "tags": []
          }
        }
      ]
    },
    {
      "cell_type": "markdown",
      "metadata": {
        "id": "YTiRaPMXfjXf"
      },
      "source": [
        "# Challenge 6 - Modeling, Prediction, and Evaluation\n",
        "\n",
        "We'll start off this section by splitting the data to train and test. **Name your 4 variables `X_train`, `X_test`, `y_train`, and `y_test`. Select 80% of the data for training and 20% for testing.**"
      ]
    },
    {
      "cell_type": "code",
      "metadata": {
        "id": "a1jmf7CkfjXf"
      },
      "source": [
        "from sklearn.model_selection import train_test_split\n",
        "\n",
        "# Your code here:\n",
        "X = website_dummy.drop(['Type'], axis=1)\n",
        "y = website_dummy['Type']\n",
        "X_train, X_test, y_train, y_test = train_test_split(X, y, test_size = 0.2, random_state = 3)"
      ],
      "execution_count": 35,
      "outputs": []
    },
    {
      "cell_type": "markdown",
      "metadata": {
        "id": "Kb8ap1tRfjXf"
      },
      "source": [
        "#### In this lab, we will try two different models and compare our results.\n",
        "\n",
        "The first model we will use in this lab is logistic regression. We have previously learned about logistic regression as a classification algorithm. In the cell below, load `LogisticRegression` from scikit-learn and initialize the model."
      ]
    },
    {
      "cell_type": "code",
      "metadata": {
        "id": "ubN6llelfjXf"
      },
      "source": [
        "# Your code here:\n",
        "\n",
        "from sklearn.linear_model import LogisticRegression\n",
        "\n",
        "model = LogisticRegression()"
      ],
      "execution_count": 36,
      "outputs": []
    },
    {
      "cell_type": "markdown",
      "metadata": {
        "id": "f0kj3YcBfjXf"
      },
      "source": [
        "Next, fit the model to our training data. We have already separated our data into 4 parts. Use those in your model."
      ]
    },
    {
      "cell_type": "code",
      "metadata": {
        "colab": {
          "base_uri": "https://localhost:8080/"
        },
        "id": "QzXSrbbPfjXf",
        "outputId": "b8d585fe-7e72-4cbd-ade6-e25c1f3cab22"
      },
      "source": [
        "# Your code here:\n",
        "model.fit(X_train,y_train)\n"
      ],
      "execution_count": 37,
      "outputs": [
        {
          "output_type": "stream",
          "text": [
            "/usr/local/lib/python3.7/dist-packages/sklearn/linear_model/_logistic.py:940: ConvergenceWarning: lbfgs failed to converge (status=1):\n",
            "STOP: TOTAL NO. of ITERATIONS REACHED LIMIT.\n",
            "\n",
            "Increase the number of iterations (max_iter) or scale the data as shown in:\n",
            "    https://scikit-learn.org/stable/modules/preprocessing.html\n",
            "Please also refer to the documentation for alternative solver options:\n",
            "    https://scikit-learn.org/stable/modules/linear_model.html#logistic-regression\n",
            "  extra_warning_msg=_LOGISTIC_SOLVER_CONVERGENCE_MSG)\n"
          ],
          "name": "stderr"
        },
        {
          "output_type": "execute_result",
          "data": {
            "text/plain": [
              "LogisticRegression(C=1.0, class_weight=None, dual=False, fit_intercept=True,\n",
              "                   intercept_scaling=1, l1_ratio=None, max_iter=100,\n",
              "                   multi_class='auto', n_jobs=None, penalty='l2',\n",
              "                   random_state=None, solver='lbfgs', tol=0.0001, verbose=0,\n",
              "                   warm_start=False)"
            ]
          },
          "metadata": {
            "tags": []
          },
          "execution_count": 37
        }
      ]
    },
    {
      "cell_type": "markdown",
      "metadata": {
        "id": "_-eEaHC4fjXg"
      },
      "source": [
        "finally, import `confusion_matrix` and `accuracy_score` from `sklearn.metrics` and fit our testing data. Assign the fitted data to `y_pred` and print the confusion matrix as well as the accuracy score"
      ]
    },
    {
      "cell_type": "code",
      "metadata": {
        "colab": {
          "base_uri": "https://localhost:8080/"
        },
        "id": "wHAOwb8bfjXg",
        "outputId": "d68a766a-6442-4fee-8223-a6a59d865d7d"
      },
      "source": [
        "# Your code here:\n",
        "from sklearn.metrics import confusion_matrix\n",
        "from sklearn.metrics import accuracy_score\n",
        "\n",
        "y_pred = model.predict(X_test)\n",
        "a = confusion_matrix(y_test, y_pred)\n",
        "b = accuracy_score(y_test, y_pred)\n",
        "print(a, b)"
      ],
      "execution_count": 51,
      "outputs": [
        {
          "output_type": "stream",
          "text": [
            "[[293  13]\n",
            " [ 37  13]] 0.8595505617977528\n"
          ],
          "name": "stdout"
        }
      ]
    },
    {
      "cell_type": "markdown",
      "metadata": {
        "id": "oLjAQ9x2fjXg"
      },
      "source": [
        "What are your thoughts on the performance of the model? Write your conclusions below."
      ]
    },
    {
      "cell_type": "code",
      "metadata": {
        "id": "ocZW0w0zfjXg"
      },
      "source": [
        "# Your conclusions here:\n",
        "\n",
        "#From this scores we can say we have a 85% of predicted sites. But we can't say which ones are benign or malicious.\n",
        "#precision = tp / (tp + fp) = 13/(13+13) = 0.5\n",
        "# recall = tp / (tp + fn)  = 13/(13 + 37) = 0.26\n",
        "#We can say that we have a really low recall (from the trully data how many we predict) and low precision (from the ones we predict how many were really those data)"
      ],
      "execution_count": 39,
      "outputs": []
    },
    {
      "cell_type": "markdown",
      "metadata": {
        "id": "lDMydVVffjXg"
      },
      "source": [
        "#### Our second algorithm is is K-Nearest Neighbors. \n",
        "\n",
        "Though is it not required, we will fit a model using the training data and then test the performance of the model using the testing data. Start by loading `KNeighborsClassifier` from scikit-learn and then initializing and fitting the model. We'll start off with a model where k=3."
      ]
    },
    {
      "cell_type": "code",
      "metadata": {
        "colab": {
          "base_uri": "https://localhost:8080/"
        },
        "id": "nag7ijywfjXg",
        "outputId": "349dea27-b6a2-4356-f43d-c93c6928bb0e"
      },
      "source": [
        "# Your code here:\n",
        "from sklearn.neighbors import KNeighborsClassifier\n",
        "\n",
        "model = KNeighborsClassifier(n_neighbors = 3)\n",
        "model.fit(X_train, y_train)"
      ],
      "execution_count": 55,
      "outputs": [
        {
          "output_type": "execute_result",
          "data": {
            "text/plain": [
              "KNeighborsClassifier(algorithm='auto', leaf_size=30, metric='minkowski',\n",
              "                     metric_params=None, n_jobs=None, n_neighbors=3, p=2,\n",
              "                     weights='uniform')"
            ]
          },
          "metadata": {
            "tags": []
          },
          "execution_count": 55
        }
      ]
    },
    {
      "cell_type": "markdown",
      "metadata": {
        "id": "ymXEkfiAfjXg"
      },
      "source": [
        "To test your model, compute the predicted values for the testing sample and print the confusion matrix as well as the accuracy score."
      ]
    },
    {
      "cell_type": "code",
      "metadata": {
        "colab": {
          "base_uri": "https://localhost:8080/"
        },
        "id": "YsWQ45QqfjXh",
        "outputId": "762cb15c-7a9a-4a4b-beb9-98ed0fc56911"
      },
      "source": [
        "# Your code here:\n",
        "y_pred = model.predict(X_test)\n",
        "a = confusion_matrix(y_test, y_pred)\n",
        "b = accuracy_score(y_test, y_pred)\n",
        "\n",
        "print(a,b)"
      ],
      "execution_count": 56,
      "outputs": [
        {
          "output_type": "stream",
          "text": [
            "[[292  14]\n",
            " [ 20  30]] 0.9044943820224719\n"
          ],
          "name": "stdout"
        }
      ]
    },
    {
      "cell_type": "markdown",
      "metadata": {
        "id": "HdMuHIO2fjXh"
      },
      "source": [
        "#### We'll create another K-Nearest Neighbors model with k=5. \n",
        "\n",
        "Initialize and fit the model below and print the confusion matrix and the accuracy score."
      ]
    },
    {
      "cell_type": "code",
      "metadata": {
        "colab": {
          "base_uri": "https://localhost:8080/"
        },
        "id": "bR-VbrL6fjXh",
        "outputId": "9c350775-f07b-463c-e9fe-855e5aac9134"
      },
      "source": [
        "# Your code here:\n",
        "from sklearn.neighbors import KNeighborsClassifier\n",
        "\n",
        "model = KNeighborsClassifier(n_neighbors = 5)\n",
        "model.fit(X_train, y_train)\n",
        "y_pred = model.predict(X_test)\n",
        "a = confusion_matrix(y_test, y_pred)\n",
        "b = accuracy_score(y_test, y_pred)\n",
        "\n",
        "print(a,b)"
      ],
      "execution_count": 58,
      "outputs": [
        {
          "output_type": "stream",
          "text": [
            "[[297   9]\n",
            " [ 20  30]] 0.9185393258426966\n"
          ],
          "name": "stdout"
        }
      ]
    },
    {
      "cell_type": "markdown",
      "metadata": {
        "id": "gXsnDdfmfjXh"
      },
      "source": [
        "Did you see an improvement in the confusion matrix when increasing k to 5? Did you see an improvement in the accuracy score? Write your conclusions below."
      ]
    },
    {
      "cell_type": "code",
      "metadata": {
        "id": "lao_d7ZCfjXh"
      },
      "source": [
        "# Your conclusions here:\n",
        "#We have an improvement. We can see that we predict better actual True Negatives to False Positive.\n"
      ],
      "execution_count": 43,
      "outputs": []
    },
    {
      "cell_type": "markdown",
      "metadata": {
        "id": "Je8ShkXsfjXh"
      },
      "source": [
        "# Bonus Challenge - Feature Scaling\n",
        "\n",
        "Problem-solving in machine learning is iterative. You can improve your model prediction with various techniques (there is a sweetspot for the time you spend and the improvement you receive though). Now you've completed only one iteration of ML analysis. There are more iterations you can conduct to make improvements. In order to be able to do that, you will need deeper knowledge in statistics and master more data analysis techniques. In this bootcamp, we don't have time to achieve that advanced goal. But you will make constant efforts after the bootcamp to eventually get there.\n",
        "\n",
        "However, now we do want you to learn one of the advanced techniques which is called *feature scaling*. The idea of feature scaling is to standardize/normalize the range of independent variables or features of the data. This can make the outliers more apparent so that you can remove them. This step needs to happen during Challenge 6 after you split the training and test data because you don't want to split the data again which makes it impossible to compare your results with and without feature scaling. For general concepts about feature scaling, click [here](https://en.wikipedia.org/wiki/Feature_scaling). To read deeper, click [here](https://medium.com/greyatom/why-how-and-when-to-scale-your-features-4b30ab09db5e).\n",
        "\n",
        "In the next cell, attempt to improve your model prediction accuracy by means of feature scaling. A library you can utilize is `sklearn.preprocessing.RobustScaler` ([documentation](https://scikit-learn.org/stable/modules/generated/sklearn.preprocessing.RobustScaler.html)). You'll use the `RobustScaler` to fit and transform your `X_train`, then transform `X_test`. You will use logistic regression to fit and predict your transformed data and obtain the accuracy score in the same way. Compare the accuracy score with your normalized data with the previous accuracy data. Is there an improvement?"
      ]
    },
    {
      "cell_type": "code",
      "metadata": {
        "id": "WUTICGj0fjXh"
      },
      "source": [
        "# Your code here"
      ],
      "execution_count": 44,
      "outputs": []
    }
  ]
}